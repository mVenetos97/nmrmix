{
 "cells": [
  {
   "cell_type": "code",
   "execution_count": 1,
   "id": "6b1aecdc-fc3a-4177-a3dc-bf1eff790fb4",
   "metadata": {},
   "outputs": [],
   "source": [
    "# !pip install pydantic\n",
    "# !pip install typing"
   ]
  },
  {
   "cell_type": "code",
   "execution_count": 53,
   "id": "32df4988-fd11-4fa1-935f-5ab2f3c85443",
   "metadata": {},
   "outputs": [],
   "source": [
    "import pandas as pd\n",
    "import pickle\n",
    "import numpyro\n",
    "import numpyro.distributions as dist\n",
    "from numpyro.infer import MCMC, NUTS\n",
    "from jax import random, vmap\n",
    "import numpy as  np\n",
    "import jax.numpy as jnp\n",
    "import jax\n",
    "import matplotlib.pyplot as plt\n",
    "import torch\n",
    "\n",
    "from pydantic import BaseModel\n",
    "from pydantic import validator\n",
    "from typing import List\n",
    "from typing import Union\n",
    "from math import factorial"
   ]
  },
  {
   "cell_type": "markdown",
   "id": "ffd77f56-09c0-438f-b618-66e68f131b2e",
   "metadata": {},
   "source": [
    "Classes used for defining a spin system. Allows for easy handling of couplings"
   ]
  },
  {
   "cell_type": "code",
   "execution_count": 54,
   "id": "cdc35153-502c-4d02-b35e-1986ffdb149a",
   "metadata": {},
   "outputs": [],
   "source": [
    "class SimpleCoupling(BaseModel):\n",
    "    '''\n",
    "    site_index: list of the indicies of the site objects which are coupled\n",
    "    isotropic_j: j-coupling frequency in Hz\n",
    "    '''\n",
    "    site_index: List[int]\n",
    "    isotropic_j: float = 0.0\n",
    "    \n",
    "    @validator(\"site_index\", always=True)\n",
    "    def validate_site_index(cls, v, *, values, **kwargs):\n",
    "        if len(v) != 2:\n",
    "            raise ValueError(\"Site index must a list of two integers.\")\n",
    "        if v[0] == v[1]:\n",
    "            raise ValueError(\"The two site indexes must be unique integers.\")\n",
    "        return v\n",
    "    \n",
    "class SimpleSite(BaseModel):\n",
    "    '''\n",
    "    isotope: specific isotope for NMR active atom\n",
    "    isotropic_chemical_shift: value in ppm for chemical shift. Converted to a list when coupled\n",
    "    multiplicity: Number of atoms responsible for this signal. Irrep in spin system\n",
    "    intensity: the relative signal intensity. Taken to be multiplicity but updated upon coupling\n",
    "    couple_flag: flag to determine if site has been coupled before. Necessary for use with JAX\n",
    "    '''\n",
    "    \n",
    "    isotope: str = \"1H\"\n",
    "    isotropic_chemical_shift: Union[float, List] = 0.0\n",
    "    multiplicity: int = 1\n",
    "    intensity: int = 1\n",
    "    couple_flag: bool = False\n",
    "    symmetry_multiplier: int = 1\n",
    "    \n",
    "    def __init__(self, **kwargs):\n",
    "        super().__init__(**kwargs)\n",
    "        self.intensity = self.multiplicity\n",
    "        if isinstance(self.isotropic_chemical_shift, float):\n",
    "            self.isotropic_chemical_shift = jnp.array([self.isotropic_chemical_shift])\n",
    "        if isinstance(self.intensity, int):\n",
    "            self.intensity = [self.intensity]\n",
    "            \n",
    "    def set_flag(self, state):\n",
    "        self.couple_flag = state\n",
    "        \n",
    "    def set_intensity(self, intensity):\n",
    "        self.intensity = intensity\n",
    "        \n",
    "    def set_isotropic_chemical_shift(self, isotropic_chemical_shift):\n",
    "        self.isotropic_chemical_shift = isotropic_chemical_shift\n",
    "    \n",
    "class SimpleSpinSystem(BaseModel):\n",
    "    '''\n",
    "    collection of sites and their couplings\n",
    "    '''\n",
    "    sites: List[SimpleSite] = []\n",
    "    couplings: List[SimpleCoupling] = []"
   ]
  },
  {
   "cell_type": "code",
   "execution_count": 55,
   "id": "f8b7c426-7684-4ed2-8cb5-35939905bb98",
   "metadata": {},
   "outputs": [],
   "source": [
    "def comb(n,k):\n",
    "    return factorial(n) / factorial(k) / factorial(n-k)\n",
    "\n",
    "def comb_all(n):\n",
    "    '''\n",
    "    creates the combinatorial intensities expected for a coupled site with n neighbors\n",
    "    '''\n",
    "    combs = [comb(n, i) for i in range(n+1)]\n",
    "    return combs/np.sum(combs)\n",
    "        \n",
    "\n",
    "def ppm_to_Hz(ppm_val, carrier_frequency= 500):\n",
    "    '''\n",
    "    Converts a j-coupling frequency in ppm back to MHz\n",
    "    carrier_frequency in Hz\n",
    "    '''\n",
    "    return ppm_val*(carrier_frequency * 1000000)/1e6\n",
    "\n",
    "def Hz_to_ppm(Hz_val, carrier_frequency = 500):\n",
    "    '''\n",
    "    Converts a j-coupling frequency in Hz back to ppm\n",
    "    carrier_frequency in MHz\n",
    "    '''\n",
    "    return (Hz_val*1e6)/(carrier_frequency*1000000)\n",
    "\n",
    "\n",
    "def couple_SimpleSpinSystem(SimpleSpinSystem, carrier_frequency = 500):\n",
    "    '''\n",
    "    Function to update isotropic_chemical_shift values in a site object to the list of shifts\n",
    "    expected in a coupled spin system\n",
    "    '''\n",
    "    if len(SimpleSpinSystem.couplings) == 0:\n",
    "        return\n",
    "    else:\n",
    "        for coupling in SimpleSpinSystem.couplings:\n",
    "            coupled_pair = coupling.site_index\n",
    "            isotropic_j_ppm = Hz_to_ppm(coupling.isotropic_j, carrier_frequency)\n",
    "\n",
    "            for i in coupled_pair:\n",
    "                j = [s for s in coupled_pair if s != i][0]\n",
    "\n",
    "                delta = SimpleSpinSystem.sites[i].isotropic_chemical_shift\n",
    "                base_intensity = SimpleSpinSystem.sites[i].intensity\n",
    "\n",
    "                neighbor_count = SimpleSpinSystem.sites[j].multiplicity * SimpleSpinSystem.sites[j].symmetry_multiplier\n",
    "                centered_list = [i - (neighbor_count-1)/2 for i in range(neighbor_count + 1)]\n",
    "                \n",
    "                if SimpleSpinSystem.sites[i].couple_flag == False:\n",
    "                    updated_freqs = [delta + n*isotropic_j_ppm for n in centered_list]\n",
    "                    SimpleSpinSystem.sites[i].set_flag(state = True)\n",
    "                else: \n",
    "                    updated_freqs = [d + n*isotropic_j_ppm for d in delta for n in centered_list]\n",
    "                updated_intensities = [base*i for base in base_intensity for i in comb_all(neighbor_count)]\n",
    "\n",
    "                SimpleSpinSystem.sites[i].set_isotropic_chemical_shift(updated_freqs)\n",
    "                SimpleSpinSystem.sites[i].set_intensity(updated_intensities)\n",
    "            \n",
    "def parse_coupled_SimpleSpinSystem(SimpleSpinSystem):\n",
    "    '''\n",
    "    Systematically parses a spin system to obtain the frequencies of each signal and the associated signal instensity\n",
    "    '''\n",
    "    shifts = jnp.array([])\n",
    "    couplings = []\n",
    "    for site in SimpleSpinSystem.sites:\n",
    "        shifts = jax.numpy.append(shifts, jnp.array(site.isotropic_chemical_shift))\n",
    "        couplings += site.intensity\n",
    "        \n",
    "    return jnp.array(shifts), jnp.array(couplings)"
   ]
  },
  {
   "cell_type": "code",
   "execution_count": 56,
   "id": "9eba5229-2243-4b67-842f-e6b28fe49706",
   "metadata": {},
   "outputs": [],
   "source": [
    "def render_spect(spin_system, shifts, eval_points, render_width):\n",
    "    \"\"\"\n",
    "    Shifts: locations of shifts (length N)\n",
    "    intenisty: intensity of shifts (reflecting duplicate shift values, like in a methyl group)\n",
    "    eval_points: evaluation points\n",
    "    render_width: peak width\n",
    "    \n",
    "    \n",
    "    return: length(eval_points) observation \n",
    "    \"\"\"\n",
    "    sites_count = len(spin_system.sites)\n",
    "    temp_spin_system = spin_system.copy(deep = True)\n",
    "    \n",
    "    for i in range(sites_count):\n",
    "        temp_spin_system.sites[i].isotropic_chemical_shift = shifts[i]\n",
    "    couple_SimpleSpinSystem(temp_spin_system)\n",
    "    updated_shifts, updated_intenisities = parse_coupled_SimpleSpinSystem(temp_spin_system)\n",
    "    \n",
    "    y = jnp.exp(-(updated_shifts[:, jnp.newaxis]- eval_points)**2/render_width**2)\n",
    "\n",
    "    y_sum = (y * updated_intenisities[:, jnp.newaxis]).sum(axis=0)\n",
    "    \n",
    "    return y_sum/y_sum.max()\n",
    "\n",
    "def model(pred_shifts_mu, pred_shifts_sigma, spin_system, eval_points, y, high = None, low = None):\n",
    "\n",
    "    MIXTURE_COMPONENTS, NUM_POSSIBLE_SHIFTS = pred_shifts_mu.shape\n",
    "    EVAL_N = eval_points.shape[0]\n",
    "    assert len(y) == len(eval_points)\n",
    "\n",
    "    \n",
    "    mixture_weights = numpyro.sample(\"mixture_weights\",\n",
    "                                     dist.HalfCauchy(scale=1 * jnp.ones(MIXTURE_COMPONENTS)))\n",
    "\n",
    "    shifts = numpyro.sample(\"shifts\", dist.TruncatedDistribution(dist.Normal(pred_shifts_mu, pred_shifts_sigma), low=low, high=high))\n",
    "\n",
    "    A = [render_spect(sim, shift, x, RENDER_WIDTH) for sim, shift in zip(spin_system, shifts)]\n",
    "    A = jnp.array(A)\n",
    "    \n",
    "    mu = A.T @ mixture_weights\n",
    "    \n",
    "    return numpyro.sample(\"obs\", dist.Normal(mu, 0.1), obs=y)"
   ]
  },
  {
   "cell_type": "markdown",
   "id": "3ffd2ad9-368e-41ae-9f12-4213e28e02e5",
   "metadata": {},
   "source": [
    "# Borylation experimental data"
   ]
  },
  {
   "cell_type": "code",
   "execution_count": 57,
   "id": "978ea943-3f2f-4c4e-8892-d3cff46a9f39",
   "metadata": {},
   "outputs": [
    {
     "name": "stderr",
     "output_type": "stream",
     "text": [
      "/tmp/ipykernel_5000/1610951471.py:7: FutureWarning: Boolean inputs to the `inclusive` argument are deprecated in favour of `both` or `neither`.\n",
      "  df = df[df['x'].between(6.5, 9.3, inclusive=True)]\n"
     ]
    },
    {
     "data": {
      "text/plain": [
       "[<matplotlib.lines.Line2D at 0x1551755713d0>]"
      ]
     },
     "execution_count": 57,
     "metadata": {},
     "output_type": "execute_result"
    },
    {
     "data": {
      "image/png": "[encoded data removed]",
      "text/plain": [
       "<Figure size 432x288 with 1 Axes>"
      ]
     },
     "metadata": {
      "needs_background": "light"
     },
     "output_type": "display_data"
    }
   ],
   "source": [
    "df=pd.read_csv('data/arene.csv', sep='\\t',header=None, names=[\"x\", \"y\", \"none\"])\n",
    "df.head()\n",
    "\n",
    "\n",
    "df = df[df['x'].between(6.5, 9.3, inclusive=True)]\n",
    "\n",
    "avg = (9.3 + 6.5)/2\n",
    "x = df['x'].to_numpy() - avg\n",
    "\n",
    "\n",
    "y = df['y'].to_numpy()\n",
    "y = y/y.max()\n",
    "plt.plot(x, y)"
   ]
  },
  {
   "cell_type": "code",
   "execution_count": 58,
   "id": "f0e33b1d-e2f6-4953-9150-dd2639a9afe1",
   "metadata": {},
   "outputs": [],
   "source": [
    "# !pip install csdmpy\n",
    "# !pip install mrsimulator"
   ]
  },
  {
   "cell_type": "code",
   "execution_count": 59,
   "id": "12a15a81-6f66-43da-bec7-39ea34cfee1c",
   "metadata": {},
   "outputs": [],
   "source": [
    "from mrsimulator import Simulator, SpinSystem, Site, Coupling\n",
    "from mrsimulator.methods import BlochDecaySpectrum\n",
    "\n",
    "import csdmpy as cp\n",
    "from collections import defaultdict\n",
    "from mrsimulator import signal_processing as sp"
   ]
  },
  {
   "cell_type": "code",
   "execution_count": 60,
   "id": "b3b5508e-e682-45fd-a457-d9f041fe5bff",
   "metadata": {},
   "outputs": [
    {
     "name": "stdout",
     "output_type": "stream",
     "text": [
      "1.399709999999999 -1.39973\n"
     ]
    },
    {
     "data": {
      "text/plain": [
       "[<matplotlib.lines.Line2D at 0x1551755583d0>]"
      ]
     },
     "execution_count": 60,
     "metadata": {},
     "output_type": "execute_result"
    },
    {
     "data": {
      "image/png": "[encoded data removed]",
      "text/plain": [
       "<Figure size 432x288 with 1 Axes>"
      ]
     },
     "metadata": {
      "needs_background": "light"
     },
     "output_type": "display_data"
    }
   ],
   "source": [
    "processor = sp.SignalProcessor(\n",
    "    operations=[\n",
    "        sp.IFFT(), sp.apodization.Gaussian(FWHM='10 Hz'), sp.FFT()# 10 hz\n",
    "    ]\n",
    ")\n",
    "\n",
    "carrier_freq = '500'\n",
    "coord_offset = x[0]*float(carrier_freq)\n",
    "count = len(x)\n",
    "increment = int((x[-1]-x[0])*float(carrier_freq))/count\n",
    "\n",
    "dim = cp.LinearDimension(count=count, increment=f\"{increment} Hz\", label=\"frequency\", description=\"Hz\", coordinates_offset = f'-{coord_offset} Hz')\n",
    "\n",
    "csdm_object = cp.CSDM(\n",
    "    dependent_variables=[cp.as_dependent_variable(y)],\n",
    "    dimensions=[dim]\n",
    ")\n",
    "\n",
    "processed_data = processor.apply_operations(data=csdm_object).real\n",
    "y = processed_data.dependent_variables[0].components[0]\n",
    "y = y/y.max()\n",
    "\n",
    "plt.plot(x,y)"
   ]
  },
  {
   "cell_type": "code",
   "execution_count": 61,
   "id": "5c80714d-6175-419a-a4ed-daa1973adcb6",
   "metadata": {},
   "outputs": [],
   "source": [
    "mixture_weights_true = jnp.array([1, 0, 1.32, 0.55, 0, 0])\n",
    "\n",
    "shifts_true = jnp.array([\n",
    "    [8.48, 7.06, 7.49, 7.15],\n",
    "    [8.43, 7.07, 8.09, 0],\n",
    "    [8.51, 7.47, 7.56, 0],\n",
    "    [8.85, 7.94, 7.13, 0],\n",
    "    [7.45, 7.71, 7.12, 0],\n",
    "    [8.39, 7.00, 7.46, 7.12]\n",
    "])\n",
    "\n",
    "intensities = jnp.ones_like(shifts_true)\n",
    "\n",
    "shifts_true = shifts_true - avg\n",
    "\n",
    "shifts_pred_sigma = jnp.ones_like(shifts_true) * 0.1 "
   ]
  },
  {
   "cell_type": "markdown",
   "id": "3ebf3a8b-8501-4d8a-839b-d2fa9872fd2c",
   "metadata": {},
   "source": [
    "# Creating the Set of Potential Molecules"
   ]
  },
  {
   "cell_type": "code",
   "execution_count": 62,
   "id": "3ff78113-ca5a-4cd3-ab1b-3c1460cfbfe7",
   "metadata": {},
   "outputs": [],
   "source": [
    "###########################################################################\n",
    "## SM\n",
    "###########################################################################\n",
    "sm_h2 = SimpleSite(isotope='1H', isotropic_chemical_shift=shifts_true[0][0], multiplicity = 1)\n",
    "sm_h3 = SimpleSite(isotope='1H', isotropic_chemical_shift=shifts_true[0][1], multiplicity = 1)\n",
    "sm_h4 = SimpleSite(isotope='1H', isotropic_chemical_shift=shifts_true[0][2], multiplicity = 1)\n",
    "sm_h5 = SimpleSite(isotope='1H', isotropic_chemical_shift=shifts_true[0][3], multiplicity = 1)\n",
    "sm_sites = [sm_h2, sm_h3, sm_h4, sm_h5]\n",
    "\n",
    "sm_c_1 = SimpleCoupling(site_index=[0, 1], isotropic_j=5.8)\n",
    "sm_c_2 = SimpleCoupling(site_index=[0, 2], isotropic_j=1.9)\n",
    "sm_c_3 = SimpleCoupling(site_index=[1, 2], isotropic_j=9)\n",
    "sm_c_4 = SimpleCoupling(site_index=[1, 3], isotropic_j=1.1)\n",
    "sm_c_5 = SimpleCoupling(site_index=[2, 3], isotropic_j=9.1)\n",
    "sm_couplings = [sm_c_1, sm_c_2, sm_c_3, sm_c_4, sm_c_5]\n",
    "\n",
    "sm = SimpleSpinSystem(sites=sm_sites, couplings=sm_couplings)\n",
    "\n",
    "###########################################################################\n",
    "## C3\n",
    "###########################################################################\n",
    "c3_h2 = SimpleSite(isotope='1H', isotropic_chemical_shift=shifts_true[1][0], multiplicity = 1)\n",
    "c3_h3 = SimpleSite(isotope='1H', isotropic_chemical_shift=shifts_true[1][1], multiplicity = 1)\n",
    "c3_h4 = SimpleSite(isotope='1H', isotropic_chemical_shift=shifts_true[1][2], multiplicity = 1)\n",
    "c3_sites = [c3_h2, c3_h3, c3_h4,]\n",
    "\n",
    "c3_c_1 = SimpleCoupling(site_index=[0, 1], isotropic_j=5.9)\n",
    "c3_c_2 = SimpleCoupling(site_index=[0, 2], isotropic_j=2.1)\n",
    "c3_c_3 = SimpleCoupling(site_index=[1, 2], isotropic_j=8.8)\n",
    "c3_couplings = [c3_c_1, c3_c_2, c3_c_3]\n",
    "\n",
    "c3 = SimpleSpinSystem(sites=c3_sites, couplings=c3_couplings)\n",
    "\n",
    "###########################################################################\n",
    "## C4\n",
    "###########################################################################\n",
    "c4_h2 = SimpleSite(isotope='1H', isotropic_chemical_shift=shifts_true[2][0], multiplicity = 1)\n",
    "c4_h3 = SimpleSite(isotope='1H', isotropic_chemical_shift=shifts_true[2][1], multiplicity = 1)\n",
    "c4_h4 = SimpleSite(isotope='1H', isotropic_chemical_shift=shifts_true[2][2], multiplicity = 1)\n",
    "c4_sites = [c4_h2, c4_h3, c4_h4]\n",
    "\n",
    "c4_c_1 = SimpleCoupling(site_index=[0, 1], isotropic_j=5.7)\n",
    "c4_c_2 = SimpleCoupling(site_index=[0, 2], isotropic_j=1)\n",
    "c4_couplings = [c4_c_1, c4_c_2]\n",
    "\n",
    "c4 = SimpleSpinSystem(sites=c4_sites, couplings=c4_couplings)\n",
    "\n",
    "###########################################################################\n",
    "## C5\n",
    "###########################################################################\n",
    "c5_h2 = SimpleSite(isotope='1H', isotropic_chemical_shift=shifts_true[3][0], multiplicity = 1)\n",
    "c5_h3 = SimpleSite(isotope='1H', isotropic_chemical_shift=shifts_true[3][1], multiplicity = 1)\n",
    "c5_h4 = SimpleSite(isotope='1H', isotropic_chemical_shift=shifts_true[3][2], multiplicity = 1)\n",
    "c5_sites = [c5_h2, c5_h3, c5_h4,]\n",
    "\n",
    "c5_c_1 = SimpleCoupling(site_index=[0, 1], isotropic_j=1.8)\n",
    "c5_c_2 = SimpleCoupling(site_index=[1, 2], isotropic_j=9.0)\n",
    "c5_couplings = [c5_c_1, c5_c_2]\n",
    "\n",
    "c5 = SimpleSpinSystem(sites=c5_sites, couplings=c5_couplings)\n",
    "\n",
    "###########################################################################\n",
    "## C6\n",
    "###########################################################################\n",
    "c6_h2 = SimpleSite(isotope='1H', isotropic_chemical_shift=shifts_true[4][0], multiplicity = 1)\n",
    "c6_h3 = SimpleSite(isotope='1H', isotropic_chemical_shift=shifts_true[4][1], multiplicity = 1)\n",
    "c6_h4 = SimpleSite(isotope='1H', isotropic_chemical_shift=shifts_true[4][2], multiplicity = 1)\n",
    "c6_sites = [c6_h2, c6_h3, c6_h4]\n",
    "\n",
    "c6_c_1 = SimpleCoupling(site_index=[0, 1], isotropic_j=8.9)\n",
    "c6_c_2 = SimpleCoupling(site_index=[0, 2], isotropic_j=1.2)\n",
    "c6_c_3 = SimpleCoupling(site_index=[1, 2], isotropic_j=9.1)\n",
    "c6_couplings = [c6_c_1, c6_c_2, c6_c_3]\n",
    "\n",
    "c6 = SimpleSpinSystem(sites=c6_sites, couplings=c6_couplings)\n",
    "\n",
    "###########################################################################\n",
    "## C7\n",
    "###########################################################################\n",
    "c7_h2 = SimpleSite(isotope='1H', isotropic_chemical_shift=shifts_true[5][0], multiplicity = 1)\n",
    "c7_h3 = SimpleSite(isotope='1H', isotropic_chemical_shift=shifts_true[5][1], multiplicity = 1)\n",
    "c7_h4 = SimpleSite(isotope='1H', isotropic_chemical_shift=shifts_true[5][2], multiplicity = 1)\n",
    "c7_h5 = SimpleSite(isotope='1H', isotropic_chemical_shift=shifts_true[5][3], multiplicity = 1)\n",
    "c7_sites = [c7_h2, c7_h3, c7_h4, c7_h5]\n",
    "\n",
    "c7_c_1 = SimpleCoupling(site_index=[0, 1], isotropic_j=5.8)\n",
    "c7_c_2 = SimpleCoupling(site_index=[0, 2], isotropic_j=1.9)\n",
    "c7_c_3 = SimpleCoupling(site_index=[1, 2], isotropic_j=8.9)\n",
    "c7_c_4 = SimpleCoupling(site_index=[1, 3], isotropic_j=1.1)\n",
    "c7_c_5 = SimpleCoupling(site_index=[2, 3], isotropic_j=9.1)\n",
    "c7_couplings = [c7_c_1, c7_c_2, c7_c_3, c7_c_4, c7_c_5]\n",
    "\n",
    "c7 = SimpleSpinSystem(sites=c7_sites, couplings=c7_couplings)\n",
    "\n",
    "sim_objects = [sm, c3, c4, c5, c6, c7]"
   ]
  },
  {
   "cell_type": "code",
   "execution_count": 63,
   "id": "ae37fc29-7d59-4c3c-8df0-f4b7d9fa74b1",
   "metadata": {},
   "outputs": [
    {
     "data": {
      "text/plain": [
       "[<matplotlib.lines.Line2D at 0x1551754d12b0>]"
      ]
     },
     "execution_count": 63,
     "metadata": {},
     "output_type": "execute_result"
    },
    {
     "data": {
      "image/png": "[encoded data removed]",
      "text/plain": [
       "<Figure size 720x576 with 1 Axes>"
      ]
     },
     "metadata": {
      "needs_background": "light"
     },
     "output_type": "display_data"
    }
   ],
   "source": [
    "RENDER_WIDTH = 0.015\n",
    "\n",
    "MIXTURE_COMPONENTS_N = len(sim_objects)\n",
    "\n",
    "true_spect = np.zeros((MIXTURE_COMPONENTS_N, len(x)))\n",
    "\n",
    "for i in range(MIXTURE_COMPONENTS_N):\n",
    "    true_spect[i] = render_spect(sim_objects[i], shifts_true[i], x, RENDER_WIDTH)\n",
    "    \n",
    "fig = plt.figure(figsize=(10, 8))\n",
    "ax = fig.add_subplot(1,1,1)\n",
    "for i in range(MIXTURE_COMPONENTS_N):\n",
    "\n",
    "    ax.plot(x, \n",
    "            true_spect[i]/true_spect[i].max() + 1.5*i + 1.2, c='k')\n",
    "ax.plot(x, y, c = 'slategray')"
   ]
  },
  {
   "cell_type": "code",
   "execution_count": 64,
   "id": "545869f1-0e4a-4389-b296-8e0febebcb90",
   "metadata": {},
   "outputs": [
    {
     "name": "stderr",
     "output_type": "stream",
     "text": [
      "sample: 100%|██████████| 4000/4000 [11:15<00:00,  5.93it/s, 31 steps of size 8.35e-02. acc. prob=0.89]   \n"
     ]
    }
   ],
   "source": [
    "num_samples = 3000\n",
    "num_warmup = 1000\n",
    "\n",
    "rng_key = jax.random.PRNGKey(0)\n",
    "rng_key, rng_key_ = jax.random.split(rng_key)\n",
    "\n",
    "\n",
    "nuts_kernel = NUTS(model)\n",
    "\n",
    "mcmc = MCMC(\n",
    "    nuts_kernel,\n",
    "    num_samples=num_samples,\n",
    "    num_warmup = num_warmup\n",
    ")\n",
    "\n",
    "mcmc.run(rng_key_,\n",
    "         pred_shifts_mu = shifts_true,\n",
    "         pred_shifts_sigma = shifts_pred_sigma, \n",
    "         spin_system = sim_objects,\n",
    "         eval_points = x,\n",
    "         y=y,\n",
    "        low = shifts_true - shifts_pred_sigma,\n",
    "        high = shifts_true + shifts_pred_sigma)"
   ]
  },
  {
   "cell_type": "code",
   "execution_count": 65,
   "id": "47b471d2-b386-4a33-b939-eb28a710c17b",
   "metadata": {},
   "outputs": [
    {
     "name": "stdout",
     "output_type": "stream",
     "text": [
      "\n",
      "                        mean       std    median      5.0%     95.0%     n_eff     r_hat\n",
      "mixture_weights[0]      0.62      0.01      0.63      0.61      0.64     25.85      1.02\n",
      "mixture_weights[1]      0.03      0.01      0.03      0.02      0.05     56.13      1.00\n",
      "mixture_weights[2]      0.35      0.01      0.35      0.33      0.37     18.63      1.04\n",
      "mixture_weights[3]      0.49      0.01      0.49      0.48      0.51    441.27      1.01\n",
      "mixture_weights[4]      0.03      0.01      0.03      0.02      0.05     17.21      1.11\n",
      "mixture_weights[5]      0.02      0.01      0.02      0.00      0.04     72.72      1.01\n",
      "       shifts[0,0]      0.57      0.00      0.57      0.57      0.57     23.92      1.01\n",
      "       shifts[0,1]     -0.85      0.00     -0.85     -0.85     -0.85   3368.88      1.00\n",
      "       shifts[0,2]     -0.37      0.00     -0.37     -0.37     -0.37   2577.23      1.00\n",
      "       shifts[0,3]     -0.78      0.00     -0.78     -0.78     -0.78   1928.64      1.00\n",
      "       shifts[1,0]      0.54      0.06      0.53      0.46      0.61      7.57      1.04\n",
      "       shifts[1,1]     -0.77      0.02     -0.78     -0.79     -0.74    102.39      1.03\n",
      "       shifts[1,2]      0.20      0.02      0.20      0.17      0.23    399.11      1.00\n",
      "       shifts[1,3]     -7.90      0.05     -7.90     -7.98     -7.81   3415.93      1.00\n",
      "       shifts[2,0]      0.60      0.00      0.60      0.60      0.60     49.60      1.01\n",
      "       shifts[2,1]     -0.50      0.00     -0.50     -0.50     -0.49   2327.89      1.00\n",
      "       shifts[2,2]     -0.40      0.00     -0.40     -0.40     -0.40   2717.24      1.00\n",
      "       shifts[2,3]     -7.90      0.05     -7.90     -7.99     -7.81   3927.77      1.00\n",
      "       shifts[3,0]      0.92      0.00      0.92      0.92      0.92   3747.46      1.00\n",
      "       shifts[3,1]      0.02      0.00      0.02      0.01      0.02   3108.86      1.00\n",
      "       shifts[3,2]     -0.78      0.00     -0.78     -0.78     -0.78   1973.71      1.00\n",
      "       shifts[3,3]     -7.90      0.05     -7.90     -7.98     -7.81   3306.80      1.00\n",
      "       shifts[4,0]     -0.50      0.01     -0.50     -0.51     -0.49    137.32      1.02\n",
      "       shifts[4,1]     -0.20      0.05     -0.20     -0.29     -0.12   2820.62      1.00\n",
      "       shifts[4,2]     -0.77      0.02     -0.78     -0.79     -0.73      5.87      1.35\n",
      "       shifts[4,3]     -7.90      0.05     -7.90     -7.99     -7.82   3702.57      1.00\n",
      "       shifts[5,0]      0.46      0.05      0.46      0.39      0.53    496.04      1.01\n",
      "       shifts[5,1]     -0.88      0.06     -0.85     -0.97     -0.80    155.78      1.01\n",
      "       shifts[5,2]     -0.44      0.05     -0.43     -0.52     -0.36    162.03      1.02\n",
      "       shifts[5,3]     -0.76      0.03     -0.76     -0.80     -0.70    167.56      1.01\n",
      "\n",
      "Number of divergences: 0\n"
     ]
    }
   ],
   "source": [
    "mcmc.print_summary()"
   ]
  },
  {
   "cell_type": "code",
   "execution_count": 67,
   "id": "2e7663e7-26b0-4e2e-b3a5-57bfa3a138b8",
   "metadata": {},
   "outputs": [],
   "source": [
    "from statistics import geometric_mean\n",
    "def concentrations(sim_objects, shifts, intensities, x, RENDER_WIDTH):\n",
    "    mult_list = []\n",
    "    for sim in sim_objects:\n",
    "        mult = 0\n",
    "        for j in sim.sites:\n",
    "            mult+=j.multiplicity\n",
    "        mult_list.append(mult)\n",
    "    conc = []\n",
    "    for shift, intensity in zip(shifts, intensities):\n",
    "        integral = [sum(render_spect(sim_objects[i], shift[i], x, RENDER_WIDTH)*intensity[i])/mult_list[i] for i in range(len(intensity))]\n",
    "        normed = [i/sum(integral) for i in integral]\n",
    "        conc.append(normed)\n",
    "    return conc"
   ]
  },
  {
   "cell_type": "code",
   "execution_count": 68,
   "id": "9dd95923-e7a3-4971-8680-373ba8a70e76",
   "metadata": {},
   "outputs": [
    {
     "name": "stdout",
     "output_type": "stream",
     "text": [
      "Molecule 0:  0.4320097512269921  True: 0.45\n",
      "Molecule 1:  0.02263060051270625  True: 0\n",
      "Molecule 2:  0.20950511189638316  True: 0.25\n",
      "Molecule 3:  0.29331520421035273  True: 0.3\n",
      "Molecule 4:  0.027119306998638078  True: 0\n",
      "Molecule 5:  0.00889358520662487  True: 0\n"
     ]
    }
   ],
   "source": [
    "est_shifts = mcmc.get_samples()['shifts']\n",
    "est_mixture_weights = mcmc.get_samples()['mixture_weights']\n",
    "\n",
    "concs_run_1 = concentrations(sim_objects, est_shifts, est_mixture_weights, x, RENDER_WIDTH)\n",
    "\n",
    "true_concs = [0.45, 0, 0.25, 0.30, 0, 0]\n",
    "for i in range(len(concs_run_1[0])):\n",
    "    mol = [sublist[i] for sublist in concs_run_1]\n",
    "    print(f'Molecule {i}: ', geometric_mean(mol), f' True: {true_concs[i]}')"
   ]
  },
  {
   "cell_type": "code",
   "execution_count": 70,
   "id": "25d9e5cb-4ced-4de1-b0be-77511d2c1f60",
   "metadata": {},
   "outputs": [
    {
     "data": {
      "text/plain": [
       "<matplotlib.legend.Legend at 0x155174c20c70>"
      ]
     },
     "execution_count": 70,
     "metadata": {},
     "output_type": "execute_result"
    },
    {
     "data": {
      "image/png": "[encoded data removed]",
      "text/plain": [
       "<Figure size 720x576 with 1 Axes>"
      ]
     },
     "metadata": {
      "needs_background": "light"
     },
     "output_type": "display_data"
    }
   ],
   "source": [
    "est_shifts = np.average(mcmc.get_samples()['shifts'], axis = 0)\n",
    "est_conc = np.average(est_mixture_weights, axis = 0)\n",
    "\n",
    "est_spect = np.zeros((MIXTURE_COMPONENTS_N, len(x)))\n",
    "\n",
    "for i in range(MIXTURE_COMPONENTS_N):\n",
    "    est_spect[i] = render_spect(sim_objects[i], est_shifts[i], x, RENDER_WIDTH)\n",
    "    \n",
    "est_spect = (est_spect.T @ est_conc)\n",
    "    \n",
    "fig = plt.figure(figsize=(10, 8))\n",
    "ax = fig.add_subplot(1,1,1)\n",
    "ax.plot(x, est_spect, c='red', label = 'Predicted', zorder = 0)\n",
    "ax.plot(x, y, c = 'darkslategray', label = 'True Spectrum', alpha = 0.5)\n",
    "\n",
    "plt.legend()"
   ]
  },
  {
   "cell_type": "markdown",
   "id": "32f2d1b4-6770-4c38-be19-2b5b30f982e8",
   "metadata": {},
   "source": [
    "Next we cut out anything under 10% and rerun."
   ]
  },
  {
   "cell_type": "code",
   "execution_count": 65,
   "id": "7123c947-6897-4ba6-be38-c4ef58cfe07c",
   "metadata": {},
   "outputs": [
    {
     "name": "stderr",
     "output_type": "stream",
     "text": [
      "sample: 100%|██████████| 4000/4000 [01:37<00:00, 41.05it/s, 7 steps of size 4.68e-01. acc. prob=0.92]  \n"
     ]
    }
   ],
   "source": [
    "est_shifts = np.average(mcmc.get_samples()['shifts'], axis = 0)\n",
    "est_error = np.std(mcmc.get_samples()['shifts'], axis = 0)\n",
    "sim_objects = [sm, c4, c5]\n",
    "\n",
    "mixture_weights_true = jnp.array([1, 1.32, 0.55])\n",
    "\n",
    "shifts_true = jnp.array([\n",
    "    est_shifts[0],\n",
    "    est_shifts[2], \n",
    "    est_shifts[3],\n",
    "])\n",
    "\n",
    "shifts_pred_sigma = jnp.array([\n",
    "    est_error[0],\n",
    "    est_error[2], \n",
    "    est_error[3], \n",
    "])\n",
    "\n",
    "\n",
    "mcmc.run(rng_key_,\n",
    "         pred_shifts_mu = shifts_true,\n",
    "         pred_shifts_sigma = shifts_pred_sigma, \n",
    "         spin_system = sim_objects,\n",
    "         eval_points = x,\n",
    "         y=y,\n",
    "        low = shifts_true - shifts_pred_sigma,\n",
    "        high = shifts_true + shifts_pred_sigma)"
   ]
  },
  {
   "cell_type": "code",
   "execution_count": 69,
   "id": "0fe5016b-ecea-4f72-a228-7f900e55d623",
   "metadata": {},
   "outputs": [
    {
     "name": "stdout",
     "output_type": "stream",
     "text": [
      "Molecule 0:  0.45577573240462255  True: 0.45\n",
      "Molecule 1:  0.23690255739181024  True: 0.25\n",
      "Molecule 2:  0.30723221286455743  True: 0.3\n"
     ]
    }
   ],
   "source": [
    "est_shifts = mcmc.get_samples()['shifts']\n",
    "est_mixture_weights = mcmc.get_samples()['mixture_weights']\n",
    "concs_run_2 = concentrations(sim_objects, est_shifts, est_mixture_weights, x, RENDER_WIDTH)\n",
    "\n",
    "true_concs = [0.45, 0.25, 0.30]\n",
    "for i in range(len(concs_run_2[0])):\n",
    "    mol = [sublist[i] for sublist in concs_run_2]\n",
    "    print(f'Molecule {i}: ', geometric_mean(mol), f' True: {true_concs[i]}')"
   ]
  },
  {
   "cell_type": "code",
   "execution_count": 70,
   "id": "628ffbce-79ce-47e6-b009-03b831397f4e",
   "metadata": {},
   "outputs": [
    {
     "data": {
      "text/plain": [
       "<matplotlib.legend.Legend at 0x2aaeb0c5e8e0>"
      ]
     },
     "execution_count": 70,
     "metadata": {},
     "output_type": "execute_result"
    },
    {
     "data": {
      "image/png": "[encoded data removed]",
      "text/plain": [
       "<Figure size 720x576 with 1 Axes>"
      ]
     },
     "metadata": {
      "needs_background": "light"
     },
     "output_type": "display_data"
    }
   ],
   "source": [
    "est_shifts = np.average(mcmc.get_samples()['shifts'], axis = 0)\n",
    "est_conc = np.average(est_mixture_weights, axis = 0)\n",
    "\n",
    "est_spect = np.zeros((3, len(x)))\n",
    "\n",
    "for i in range(3):\n",
    "    est_spect[i] = render_spect(sim_objects[i], est_shifts[i], x, RENDER_WIDTH)\n",
    "    \n",
    "est_spect = (est_spect.T @ est_conc)\n",
    "    \n",
    "fig = plt.figure(figsize=(10, 8))\n",
    "ax = fig.add_subplot(1,1,1)\n",
    "ax.plot(x, est_spect, c='red', label = 'Predicted', zorder = 0)\n",
    "ax.plot(x, y, c = 'darkslategray', label = 'True Spectrum', alpha = 0.5)\n",
    "# plt.xlim([1.5,-1.5])\n",
    "plt.legend()"
   ]
  },
  {
   "cell_type": "code",
   "execution_count": null,
   "id": "f8089d7d-cbe8-4304-931c-eee33d0ecfd0",
   "metadata": {},
   "outputs": [],
   "source": []
  }
 ],
 "metadata": {
  "kernelspec": {
   "display_name": "cNMR",
   "language": "python",
   "name": "cnmr"
  },
  "language_info": {
   "codemirror_mode": {
    "name": "ipython",
    "version": 3
   },
   "file_extension": ".py",
   "mimetype": "text/x-python",
   "name": "python",
   "nbconvert_exporter": "python",
   "pygments_lexer": "ipython3",
   "version": "3.9.9"
  }
 },
 "nbformat": 4,
 "nbformat_minor": 5
}